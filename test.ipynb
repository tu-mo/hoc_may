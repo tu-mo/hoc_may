{
  "nbformat": 4,
  "nbformat_minor": 0,
  "metadata": {
    "colab": {
      "name": "test.ipynb",
      "provenance": [],
      "collapsed_sections": [],
      "toc_visible": true,
      "include_colab_link": true
    },
    "kernelspec": {
      "display_name": "Python 3",
      "name": "python3"
    },
    "language_info": {
      "name": "python"
    },
    "accelerator": "GPU"
  },
  "cells": [
    {
      "cell_type": "markdown",
      "metadata": {
        "id": "view-in-github",
        "colab_type": "text"
      },
      "source": [
        "<a href=\"https://colab.research.google.com/github/tu-mo/hoc_may/blob/main/test.ipynb\" target=\"_parent\"><img src=\"https://colab.research.google.com/assets/colab-badge.svg\" alt=\"Open In Colab\"/></a>"
      ]
    },
    {
      "cell_type": "markdown",
      "metadata": {
        "id": "kRn9d4Rq4EW2"
      },
      "source": [
        "# **Khai báo thư viện**"
      ]
    },
    {
      "cell_type": "code",
      "metadata": {
        "id": "zvar-P-7OQyS"
      },
      "source": [
        "import torch\n",
        "from torch.utils.data import DataLoader\n",
        "from torch import nn\n",
        "\n",
        "import torchvision\n",
        "from torchvision import transforms\n",
        "\n",
        "import matplotlib.pyplot as plt\n",
        "\n",
        "from collections import namedtuple\n",
        "\n",
        "from sklearn.metrics import classification_report"
      ],
      "execution_count": 124,
      "outputs": []
    },
    {
      "cell_type": "markdown",
      "metadata": {
        "id": "Q9AsQzsX4I0Y"
      },
      "source": [
        "# **Lấy dữ liệu từ github**"
      ]
    },
    {
      "cell_type": "code",
      "metadata": {
        "id": "TraytE6SSwQy",
        "colab": {
          "base_uri": "https://localhost:8080/"
        },
        "outputId": "17caf70b-7427-417f-ea60-35390719d3b2"
      },
      "source": [
        "!git clone https://github.com/tu-mo/hoc_may.git"
      ],
      "execution_count": 125,
      "outputs": [
        {
          "output_type": "stream",
          "name": "stdout",
          "text": [
            "fatal: destination path 'hoc_may' already exists and is not an empty directory.\n"
          ]
        }
      ]
    },
    {
      "cell_type": "markdown",
      "metadata": {
        "id": "x0E1QBeh0kP9"
      },
      "source": [
        "# **Chuẩn bị dữ liệu**\n",
        "\n",
        "\n",
        "\n",
        "\n",
        "\n",
        "\n"
      ]
    },
    {
      "cell_type": "code",
      "metadata": {
        "id": "yXb_l3YD0b-L"
      },
      "source": [
        "TrainTest = namedtuple('TrainTest', ['train', 'test'])\n",
        "\n",
        "def get_classes():\n",
        "  classes = ['2C', '3C', '4C']\n",
        "  return classes\n",
        "\n",
        "def raw_image(size):\n",
        "  transform_train = transforms.Compose([\n",
        "    transforms.Resize(size=(size,size)),\n",
        "    transforms.ToTensor()\n",
        "  ])\n",
        "  transform_test = transforms.Compose([\n",
        "    transforms.Resize(size=(size,size)), \n",
        "    transforms.ToTensor()\n",
        "  ])\n",
        "  return transform_train, transform_test\n",
        "\n",
        "def preprocess_image(size):\n",
        "  transform_train = transforms.Compose([\n",
        "    transforms.Resize(size=(size,size)),\n",
        "    transforms.CenterCrop(size=(size,size)),\n",
        "    transforms.ToTensor(),\n",
        "    transforms.Normalize(\n",
        "       mean=[0.485, 0.456, 0.406],\n",
        "       std=[0.229, 0.224, 0.225]\n",
        "    )\n",
        "  ])\n",
        "  transform_test = transforms.Compose([\n",
        "    transforms.Resize(size=(size,size)), \n",
        "    transforms.ToTensor()\n",
        "  ])\n",
        "  return transform_train, transform_test\n",
        "\n",
        "def augmentation_image(size):\n",
        "  transform_train = transforms.Compose([\n",
        "    transforms.Resize(size=(size,size)),\n",
        "    transforms.RandomCrop(size=(size,size), padding=4,),\n",
        "    transforms.RandomHorizontalFlip(),\n",
        "    transforms.RandomVerticalFlip(),\n",
        "    transforms.ColorJitter(brightness=0.2, contrast=0.2, saturation=0.2, hue=0.2),\n",
        "    transforms.ToTensor()\n",
        "  ])\n",
        "  transform_test = transforms.Compose([\n",
        "    transforms.Resize(size=(size,size)), \n",
        "    transforms.ToTensor()\n",
        "  ])\n",
        "  return transform_train, transform_test\n",
        "\n",
        "def prepare_data(size):\n",
        "  transform_train, transform_test = raw_image(size)\n",
        "  # transform_train, transform_test = preprocess_image(size)\n",
        "  # transform_train, transform_test = augmentation_image(size)\n",
        "  trainset = torchvision.datasets.ImageFolder(root='/content/hoc_may/train', transform=transform_train)\n",
        "  testset = torchvision.datasets.ImageFolder(root='/content/hoc_may/test', transform=transform_test)\n",
        "  return TrainTest(train=trainset, test=testset)\n",
        "\n",
        "def prepare_loader(datasets):\n",
        "  trainloader = DataLoader(dataset=datasets.train, batch_size=32, shuffle=True, num_workers=4)\n",
        "  testloader = DataLoader(dataset=datasets.test, batch_size=32, shuffle=False, num_workers=4)\n",
        "  return TrainTest(train=trainloader, test=testloader)\n"
      ],
      "execution_count": 126,
      "outputs": []
    },
    {
      "cell_type": "markdown",
      "metadata": {
        "id": "4kPHhDty3gj0"
      },
      "source": [
        "# **Train + Test**"
      ]
    },
    {
      "cell_type": "code",
      "metadata": {
        "id": "P3nmYB8Mam7G"
      },
      "source": [
        "def train_epoch(epoch, model, loader, loss_func, optimizer, device):\n",
        "  model.train()\n",
        "  running_loss = 0.0\n",
        "  reporting_steps = 32\n",
        "  for i, (images, labels) in enumerate(loader):\n",
        "    images, labels = images.to(device), labels.to(device)\n",
        "    outputs = model(images)\n",
        "    loss = loss_func(outputs, labels)\n",
        "    optimizer.zero_grad()\n",
        "    loss.backward()\n",
        "    optimizer.step()\n",
        "    running_loss += loss.item()\n",
        "    if i % reporting_steps == reporting_steps-1:\n",
        "      print(f\"Epoch {epoch} step {i} ave_loss {running_loss/reporting_steps:.4f}\")\n",
        "      running_loss = 0.0\n",
        "\n",
        "def test_epoch(model, loader, device):\n",
        "  ytrue = []\n",
        "  ypred = []\n",
        "  with torch.no_grad():\n",
        "    model.eval()\n",
        "    for i, (images, labels) in enumerate(loader):\n",
        "      images, labels = images.to(device), labels.to(device)\n",
        "      outputs = model(images)\n",
        "      _, predicted = torch.max(outputs, dim=1)\n",
        "      ytrue += list(labels.cpu().numpy())\n",
        "      ypred += list(predicted.cpu().numpy())\n",
        "\n",
        "  return ypred, ytrue"
      ],
      "execution_count": 127,
      "outputs": []
    },
    {
      "cell_type": "markdown",
      "metadata": {
        "id": "XWv9sjuR38R0"
      },
      "source": [
        "# **Thực thi**"
      ]
    },
    {
      "cell_type": "code",
      "metadata": {
        "id": "8NYxwZVa365E"
      },
      "source": [
        "def main(model = 'vgg16', size = 32):\n",
        "  classes = get_classes()\n",
        "  datasets = prepare_data(size)\n",
        "  loaders = prepare_loader(datasets)\n",
        "  device = torch.device(\"cuda:0\" if torch.cuda.is_available() else \"cpu\")\n",
        "  in_f = 0  # in_features\n",
        "  out_f = len(get_classes())  #out_features\n",
        "\n",
        "  if model == 'vgg16':\n",
        "    print(\"vgg16\")\n",
        "    model = torchvision.models.vgg16()\n",
        "    # vì bài toán có 3 phân lớp\n",
        "    in_f = model.classifier[-1].in_features\n",
        "    model.classifier[-1] = torch.nn.Linear(in_features=in_f, out_features=out_f)\n",
        "  elif model == 'vgg19':\n",
        "    print(\"vgg19\")\n",
        "    model = torchvision.models.vgg19()\n",
        "    # vì bài toán có 3 phân lớp\n",
        "    in_f = model.classifier[-1].in_features\n",
        "    model.classifier[-1] = torch.nn.Linear(in_features=in_f, out_features=out_f)\n",
        "  elif model == 'resnet50':\n",
        "    print(\"resnet50\")\n",
        "    model = torchvision.models.resnet50()\n",
        "    in_f = model.fc.in_features\n",
        "    model.fc = torch.nn.Linear(in_features=in_f, out_features=out_f)\n",
        "  elif model == 'densenet161':\n",
        "    print(\"densenet161\")\n",
        "    model = torchvision.models.densenet161()\n",
        "    in_f = model.classifier.in_features\n",
        "    model.classifier = torch.nn.Linear(in_features=in_f, out_features=out_f)\n",
        "\n",
        "  model.to(device)\n",
        "  loss_func = nn.CrossEntropyLoss()\n",
        "  optimizer = torch.optim.SGD(model.parameters(), lr=0.01, momentum=0.9, weight_decay=5e-4)\n",
        "  for epoch in range(10):\n",
        "    train_epoch(epoch, model, loaders.train, loss_func, optimizer, device)\n",
        "    ypred, ytrue = test_epoch(model, loaders.test, device)\n",
        "    print(classification_report(ytrue, ypred, target_names=classes))"
      ],
      "execution_count": 5,
      "outputs": []
    },
    {
      "cell_type": "code",
      "metadata": {
        "id": "nL1jUwgvTkL0"
      },
      "source": [
        "main('vgg16',32)"
      ],
      "execution_count": null,
      "outputs": []
    },
    {
      "cell_type": "code",
      "metadata": {
        "id": "9jKYfyIfUvS_"
      },
      "source": [
        "main('vgg16',224)"
      ],
      "execution_count": null,
      "outputs": []
    },
    {
      "cell_type": "code",
      "metadata": {
        "id": "MRMbZ3_IUvm4"
      },
      "source": [
        "main('vgg19',32)"
      ],
      "execution_count": null,
      "outputs": []
    },
    {
      "cell_type": "code",
      "metadata": {
        "id": "Deq7vqwLUv5Q"
      },
      "source": [
        "main('vgg19',224)"
      ],
      "execution_count": null,
      "outputs": []
    },
    {
      "cell_type": "code",
      "metadata": {
        "id": "tZPKWALOUwFF"
      },
      "source": [
        "main('resnet50',32)"
      ],
      "execution_count": null,
      "outputs": []
    },
    {
      "cell_type": "code",
      "metadata": {
        "id": "SiqOV4QRUwTe"
      },
      "source": [
        "main('resnet50',224)"
      ],
      "execution_count": null,
      "outputs": []
    },
    {
      "cell_type": "code",
      "metadata": {
        "id": "y_ABm1PFUX9R"
      },
      "source": [
        "main('densenet161',32)\n"
      ],
      "execution_count": null,
      "outputs": []
    },
    {
      "cell_type": "code",
      "metadata": {
        "id": "z6xpRzTgeYtq"
      },
      "source": [
        "main('densenet161',224)"
      ],
      "execution_count": null,
      "outputs": []
    },
    {
      "cell_type": "markdown",
      "metadata": {
        "id": "OOxgt8g1DXzj"
      },
      "source": [
        "# **Thực thi với kết quả phân theo video**"
      ]
    },
    {
      "cell_type": "code",
      "metadata": {
        "id": "Up3JzJAuxvig"
      },
      "source": [
        "import numpy as np\n",
        "\n",
        "def main(model = 'vgg16', size = 32):\n",
        "  classes = get_classes()\n",
        "  datasets = prepare_data(size)\n",
        "  loaders = prepare_loader(datasets)\n",
        "  device = torch.device(\"cuda:0\" if torch.cuda.is_available() else \"cpu\")\n",
        "  in_f = 0  # in_features\n",
        "  out_f = len(get_classes())  #out_features\n",
        "  video = -1\n",
        "  true = 0\n",
        "  count = np.array([0,0,0])\n",
        "  predic = 0\n",
        "  ytrue_ = np.array([10])\n",
        "  ypred_ = np.array([10])\n",
        "\n",
        "  if model == 'vgg16':\n",
        "    print(\"vgg16\")\n",
        "    model = torchvision.models.vgg16()\n",
        "    # vì bài toán có 3 phân lớp\n",
        "    in_f = model.classifier[-1].in_features\n",
        "    model.classifier[-1] = torch.nn.Linear(in_features=in_f, out_features=out_f)\n",
        "  elif model == 'vgg19':\n",
        "    print(\"vgg19\")\n",
        "    model = torchvision.models.vgg19()\n",
        "    # vì bài toán có 3 phân lớp\n",
        "    in_f = model.classifier[-1].in_features\n",
        "    model.classifier[-1] = torch.nn.Linear(in_features=in_f, out_features=out_f)\n",
        "  elif model == 'resnet50':\n",
        "    print(\"resnet50\")\n",
        "    model = torchvision.models.resnet50()\n",
        "    in_f = model.fc.in_features\n",
        "    model.fc = torch.nn.Linear(in_features=in_f, out_features=out_f)\n",
        "  elif model == 'densenet161':\n",
        "    print(\"densenet161\")\n",
        "    model = torchvision.models.densenet161()\n",
        "    in_f = model.classifier.in_features\n",
        "    model.classifier = torch.nn.Linear(in_features=in_f, out_features=out_f)\n",
        "\n",
        "  model.to(device)\n",
        "  loss_func = nn.CrossEntropyLoss()\n",
        "  optimizer = torch.optim.SGD(model.parameters(), lr=0.01, momentum=0.9, weight_decay=5e-4)\n",
        "  for epoch in range(10):\n",
        "    train_epoch(epoch, model, loaders.train, loss_func, optimizer, device)\n",
        "  ypred, ytrue = test_epoch(model, loaders.test, device)\n",
        "  \n",
        "  for i in range (len(datasets.test.imgs)):\n",
        "    if (datasets.test.imgs[i][0].split('C/')[1].split('_')[0] != video):\n",
        "      if ((count[0] != 0) | (count[1] != 0) | (count[2] != 0)):\n",
        "        max_ = count.max()\n",
        "        for j in range (len(count)):\n",
        "          if (count[j] == max_):\n",
        "            predic = j\n",
        "            break \n",
        "        print('video:',video, '  true:', true, '  predic:',predic)\n",
        "        ytrue_ = np.append(ytrue_, true)\n",
        "        ypred_ = np.append(ypred_, predic)\n",
        "        count[:] = 0\n",
        "      video = datasets.test.imgs[i][0].split('C/')[1].split('_')[0]\n",
        "      true = ytrue[i] \n",
        "    count[ypred[i]] += 1\n",
        "  print('video:',video, '  true:', true, '  predic:',predic)\n",
        "  ytrue_ = np.append(ytrue_, true)\n",
        "  ypred_ = np.append(ypred_, predic)\n",
        "  ytrue_ = np.delete(ytrue_, 0)\n",
        "  ypred_ = np.delete(ypred_, 0)\n",
        "\n",
        "  print(classification_report(ytrue_, ypred_, target_names=classes))"
      ],
      "execution_count": 128,
      "outputs": []
    },
    {
      "cell_type": "code",
      "metadata": {
        "id": "gk8abbOvIJHz"
      },
      "source": [
        "main('vgg16',32)"
      ],
      "execution_count": null,
      "outputs": []
    },
    {
      "cell_type": "code",
      "metadata": {
        "id": "4B9kTaorKn0k"
      },
      "source": [
        "main('vgg19',32)"
      ],
      "execution_count": null,
      "outputs": []
    },
    {
      "cell_type": "code",
      "metadata": {
        "id": "xtMAdRJ9OEm6"
      },
      "source": [
        "main('resnet50',32)"
      ],
      "execution_count": null,
      "outputs": []
    },
    {
      "cell_type": "code",
      "metadata": {
        "id": "0mLPYXSfPzcs"
      },
      "source": [
        "main('densenet161',32)"
      ],
      "execution_count": null,
      "outputs": []
    }
  ]
}